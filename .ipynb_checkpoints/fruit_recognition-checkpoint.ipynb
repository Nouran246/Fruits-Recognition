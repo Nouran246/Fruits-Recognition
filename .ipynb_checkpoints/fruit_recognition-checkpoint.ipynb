{
 "cells": [
  {
   "cell_type": "code",
   "execution_count": null,
   "metadata": {},
   "outputs": [],
   "source": [
    "# Importing Libraries\n",
    "import numpy as np\n",
    "import cv2\n",
    "import os\n",
    "import matplotlib.pyplot as plt\n",
    "from sklearn.model_selection import train_test_split\n",
    "from sklearn.preprocessing import StandardScaler\n",
    "from sklearn.svm import SVC\n",
    "from sklearn.metrics import accuracy_score\n",
    "from keras.preprocessing.image import ImageDataGenerator\n",
    "from tensorflow.keras.utils import to_categorical\n"
   ]
  },
  {
   "cell_type": "code",
   "execution_count": null,
   "metadata": {},
   "outputs": [],
   "source": [
    "#loading dataset\n",
    "# Dataset path\n",
    "base_dir = r'D:\\year 3\\image processing\\Fruits-Recognition\\Dataset\\fruits-360_dataset_100x100\\fruits-360'\n",
    "print(\"Base directory exists:\", os.path.exists(base_dir))\n",
    "train_dir = os.path.join(base_dir, 'Training')\n",
    "test_dir = os.path.join(base_dir, 'Test')\n",
    "print(\"Train directory exists:\", os.path.exists(train_dir))\n",
    "print(\"Test directory exists:\", os.path.exists(test_dir))\n",
    "\n",
    "# List fruit types from the dataset directory\n",
    "fruit_types = os.listdir(train_dir)  # This will give you the folder names for each fruit type\n",
    "print(\"Fruit types in dataset:\", fruit_types)"
   ]
  },
  {
   "cell_type": "code",
   "execution_count": null,
   "metadata": {},
   "outputs": [],
   "source": [
    "# Resize images to 100x100\n",
    "image_size = (100, 100)\n",
    "\n",
    "# Set up Image Augmentation for Training Data\n",
    "datagen = ImageDataGenerator(\n",
    "    rotation_range=30,  # Randomly rotate images by up to 30 degrees\n",
    "    width_shift_range=0.2,  # Randomly shift images horizontally\n",
    "    height_shift_range=0.2,  # Randomly shift images vertically\n",
    "    shear_range=0.2,  # Randomly shear images\n",
    "    zoom_range=0.2,  # Randomly zoom in and out\n",
    "    horizontal_flip=True,  # Randomly flip images horizontally\n",
    "    fill_mode='nearest'  # Fill any new pixels with the nearest pixel value\n",
    ")\n",
    "\n",
    "# Function to load and preprocess images\n",
    "def load_images_and_labels(dataset_dir):\n",
    "    images = []\n",
    "    labels = []\n",
    "    \n",
    "    # Enumerate through fruit types (folders in the dataset)\n",
    "    for label, fruit in enumerate(fruit_types):\n",
    "        fruit_folder = os.path.join(dataset_dir, fruit)\n",
    "        for image_name in os.listdir(fruit_folder):\n",
    "            # Load each image\n",
    "            img_path = os.path.join(fruit_folder, image_name)\n",
    "            img = cv2.imread(img_path)\n",
    "            if img is None:\n",
    "                continue\n",
    "            img = cv2.resize(img, image_size)  # Resize image to 100x100\n",
    "            img = img / 255.0  # Normalize the pixel values to [0, 1]\n",
    "            \n",
    "            images.append(img)\n",
    "            labels.append(label)\n",
    "    \n",
    "    images = np.array(images)\n",
    "    labels = np.array(labels)\n",
    "    \n",
    "    return images, labels"
   ]
  },
  {
   "cell_type": "code",
   "execution_count": null,
   "metadata": {},
   "outputs": [],
   "source": [
    "# Load images and labels\n",
    "images, labels = load_images_and_labels(train_dir)\n",
    "\n",
    "# Split data into training and testing sets\n",
    "X_train, X_test, y_train, y_test = train_test_split(images, labels, test_size=0.2, random_state=42)\n",
    "\n",
    "# Rescale labels using one-hot encoding\n",
    "y_train = to_categorical(y_train, num_classes=len(fruit_types))\n",
    "y_test = to_categorical(y_test, num_classes=len(fruit_types))"
   ]
  },
  {
   "cell_type": "code",
   "execution_count": null,
   "metadata": {},
   "outputs": [],
   "source": [
    "# Flatten images for SVM (converting 2D images to 1D vectors)\n",
    "X_train_flattened = X_train.reshape(X_train.shape[0], -1)\n",
    "X_test_flattened = X_test.reshape(X_test.shape[0], -1)\n",
    "\n",
    "# Normalize the data\n",
    "scaler = StandardScaler()\n",
    "X_train_scaled = scaler.fit_transform(X_train_flattened)\n",
    "X_test_scaled = scaler.transform(X_test_flattened)\n",
    "\n",
    "# Train SVM Classifier\n",
    "svm_classifier = SVC(kernel='linear', random_state=42)\n",
    "svm_classifier.fit(X_train_scaled, np.argmax(y_train, axis=1))\n",
    "\n",
    "# Predict on test set\n",
    "y_pred = svm_classifier.predict(X_test_scaled)\n",
    "\n",
    "# Evaluate the model\n",
    "accuracy = accuracy_score(np.argmax(y_test, axis=1), y_pred)\n",
    "print(f'Accuracy: {accuracy * 100:.2f}%')\n"
   ]
  },
  {
   "cell_type": "code",
   "execution_count": null,
   "metadata": {},
   "outputs": [],
   "source": [
    "# Visualize augmented images\n",
    "sample_img = X_train[0]  # Taking one image from training data\n",
    "sample_img = np.expand_dims(sample_img, axis=0)  # Adding batch dimension\n",
    "\n",
    "# Generate augmented images\n",
    "augmented_images = datagen.flow(sample_img)\n",
    "\n",
    "# Display the augmented images\n",
    "plt.figure(figsize=(10, 10))\n",
    "for i in range(9):  # Displaying 9 augmented images\n",
    "    plt.subplot(3, 3, i+1)\n",
    "    plt.imshow(augmented_images.next()[0].astype('uint8'))\n",
    "    plt.axis('off')\n",
    "plt.show()"
   ]
  },
  {
   "cell_type": "code",
   "execution_count": null,
   "metadata": {},
   "outputs": [],
   "source": [
    "\n"
   ]
  },
  {
   "cell_type": "code",
   "execution_count": null,
   "metadata": {},
   "outputs": [],
   "source": []
  }
 ],
 "metadata": {
  "kernelspec": {
   "display_name": "Python 3 (ipykernel)",
   "language": "python",
   "name": "python3"
  },
  "language_info": {
   "codemirror_mode": {
    "name": "ipython",
    "version": 3
   },
   "file_extension": ".py",
   "mimetype": "text/x-python",
   "name": "python",
   "nbconvert_exporter": "python",
   "pygments_lexer": "ipython3",
   "version": "3.12.6"
  }
 },
 "nbformat": 4,
 "nbformat_minor": 4
}
